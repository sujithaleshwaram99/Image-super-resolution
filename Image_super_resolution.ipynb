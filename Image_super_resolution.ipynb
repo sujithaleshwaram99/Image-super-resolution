{
  "nbformat": 4,
  "nbformat_minor": 0,
  "metadata": {
    "kernelspec": {
      "display_name": "Python 3",
      "language": "python",
      "name": "python3"
    },
    "language_info": {
      "codemirror_mode": {
        "name": "ipython",
        "version": 3
      },
      "file_extension": ".py",
      "mimetype": "text/x-python",
      "name": "python",
      "nbconvert_exporter": "python",
      "pygments_lexer": "ipython3",
      "version": "3.8.3"
    },
    "colab": {
      "name": "Image super resolution.ipynb",
      "provenance": [],
      "collapsed_sections": []
    },
    "accelerator": "GPU"
  },
  "cells": [
    {
      "cell_type": "markdown",
      "metadata": {
        "id": "j_N4egApcyfY"
      },
      "source": [
        "# Image super resolution"
      ]
    },
    {
      "cell_type": "code",
      "metadata": {
        "colab": {
          "base_uri": "https://localhost:8080/"
        },
        "id": "LGHO7UF4OeFi",
        "outputId": "164c8620-f5dc-4e58-f46c-13c17b03cbbc"
      },
      "source": [
        "!pip install Pillow\n",
        "!pip install scipy==1.2.2"
      ],
      "execution_count": 1,
      "outputs": [
        {
          "output_type": "stream",
          "name": "stdout",
          "text": [
            "Requirement already satisfied: Pillow in /usr/local/lib/python3.7/dist-packages (7.1.2)\n",
            "Requirement already satisfied: scipy==1.2.2 in /usr/local/lib/python3.7/dist-packages (1.2.2)\n",
            "Requirement already satisfied: numpy>=1.8.2 in /usr/local/lib/python3.7/dist-packages (from scipy==1.2.2) (1.19.5)\n"
          ]
        }
      ]
    },
    {
      "cell_type": "code",
      "metadata": {
        "id": "HoIWHeHaOeFk"
      },
      "source": [
        "import scipy\n",
        "import numpy as np\n",
        "import torch\n",
        "import torch.nn as nn\n",
        "import torch.nn.functional as F\n",
        "from scipy import misc\n",
        "from scipy import ndimage\n",
        "import cv2\n",
        "import numpy as np\n",
        "import math\n",
        "import sys, time"
      ],
      "execution_count": 2,
      "outputs": []
    },
    {
      "cell_type": "code",
      "metadata": {
        "id": "I7VvRFM2R2yL"
      },
      "source": [
        "from skimage.io import imread\n",
        "import scipy\n",
        "from scipy import misc\n",
        "from IPython.display import display, Image\n",
        "import imageio\n",
        "img = imageio.imread('butterfly_GT.bmp')\n",
        "imageio.imwrite('output_GT.jpg', img)"
      ],
      "execution_count": 3,
      "outputs": []
    },
    {
      "cell_type": "code",
      "metadata": {
        "id": "6s-AD4AxOeFk"
      },
      "source": [
        "def imread(path, is_grayscale=True):\n",
        "    \"\"\"\n",
        "    Read image from the giving path.Default value is gray-scale, and image is read by YCbCr format as the paper.\n",
        "    \"\"\"\n",
        "    if is_grayscale:\n",
        "        return misc.imread(path, flatten=True, mode='YCbCr').astype(np.float32)\n",
        "    else:\n",
        "        return misc.imread(path, mode='YCbCr').astype(np.float32)"
      ],
      "execution_count": 4,
      "outputs": []
    },
    {
      "cell_type": "code",
      "metadata": {
        "id": "Rwj32uwwOeFl"
      },
      "source": [
        "def modcrop(image, scale=3):\n",
        "    \"\"\"In order to reduce and increase the size of an image, the first step is to ensure that there will be no unused space at the end. Scale factor and modulo of height (and width) must be determined. Subtract this number from the height and width of the original picture size to find the modulo. Despite the scaling operation, there would be no unused space.\"\"\"\n",
        "    if len(image.shape) == 3:\n",
        "        h, w, _ = image.shape\n",
        "        h = h - np.mod(h, scale)\n",
        "        w = w - np.mod(w, scale)\n",
        "        image = image[0:h, 0:w, :]\n",
        "    else:\n",
        "        h, w = image.shape\n",
        "        h = h - np.mod(h, scale)\n",
        "        w = w - np.mod(w, scale)\n",
        "        image = image[0:h, 0:w]\n",
        "    return image"
      ],
      "execution_count": 5,
      "outputs": []
    },
    {
      "cell_type": "code",
      "metadata": {
        "id": "S14meRKpOeFl"
      },
      "source": [
        "def preprocess(path, scale=3):\n",
        "    \"\"\"\n",
        "    Preprocess single image file\n",
        "      (1) Read original image as YCbCr format (and grayscale as default)\n",
        "      (2) Normalize\n",
        "      (3) Apply image file with bicubic interpolation\n",
        "    \"\"\"\n",
        "    image = imread(path, is_grayscale=True)\n",
        "    label_ = modcrop(image, scale)\n",
        "    # Must be normalized\n",
        "    label_ = label_ / 255.\n",
        "    input_ = ndimage.interpolation.zoom(label_, (1. / scale), prefilter=False)\n",
        "    input_ = ndimage.interpolation.zoom(input_, (scale / 1.), prefilter=False)\n",
        "    return input_, label_"
      ],
      "execution_count": 10,
      "outputs": []
    },
    {
      "cell_type": "code",
      "metadata": {
        "id": "54B2V7TOOeFl"
      },
      "source": [
        "\"\"\"Define the model weights and biases \n",
        "\"\"\"\n",
        "## set the weight of three conv layers\n",
        "# add hyper parameter numbers\n",
        "# conv1 layer with biases: 64 filters with size 9 x 9\n",
        "# conv2 layer with biases and relu: 32 filters with size 1 x 1\n",
        "# conv3 layer with biases and NO relu: 1 filter with size 5 x 5\n",
        "class SRCNN(nn.Module):\n",
        "    def __init__(self):\n",
        "        super(SRCNN, self).__init__()\n",
        "        self.conv1 = nn.Conv2d(in_channels=1, out_channels=64, kernel_size=9, padding=4)\n",
        "        self.conv2 = nn.Conv2d(in_channels=64, out_channels=32, kernel_size=1, padding=0)\n",
        "        self.conv3 = nn.Conv2d(in_channels=32, out_channels=1, kernel_size=5, padding=2)\n",
        "    def forward(self, x):\n",
        "        out = F.relu(self.conv1(x))\n",
        "        out = F.relu(self.conv2(out))\n",
        "        out = self.conv3(out)\n",
        "        return out"
      ],
      "execution_count": 11,
      "outputs": []
    },
    {
      "cell_type": "code",
      "metadata": {
        "colab": {
          "base_uri": "https://localhost:8080/"
        },
        "id": "4EWCzUGpLffF",
        "outputId": "3741d13c-5ca9-46b5-8b22-ea371ebe8ca6"
      },
      "source": [
        "import skimage\n",
        "from skimage import metrics\n",
        "\"\"\"Load the pre-trained model file\n",
        "\"\"\"\n",
        "model = SRCNN()\n",
        "model.load_state_dict(torch.load('model.pth'))\n",
        "model.eval()"
      ],
      "execution_count": 12,
      "outputs": [
        {
          "output_type": "execute_result",
          "data": {
            "text/plain": [
              "SRCNN(\n",
              "  (conv1): Conv2d(1, 64, kernel_size=(9, 9), stride=(1, 1), padding=(4, 4))\n",
              "  (conv2): Conv2d(64, 32, kernel_size=(1, 1), stride=(1, 1))\n",
              "  (conv3): Conv2d(32, 1, kernel_size=(5, 5), stride=(1, 1), padding=(2, 2))\n",
              ")"
            ]
          },
          "metadata": {},
          "execution_count": 12
        }
      ]
    },
    {
      "cell_type": "code",
      "metadata": {
        "colab": {
          "base_uri": "https://localhost:8080/"
        },
        "id": "Ttq6kxl3LjpR",
        "outputId": "ca584c62-18b3-4d81-e365-fcb8c10d75c2"
      },
      "source": [
        "LR_image, HR_image = preprocess('butterfly_GT.bmp')\n",
        "# transform the input to 4-D tensor\n",
        "input_ = np.expand_dims(np.expand_dims(LR_image, axis=0), axis=0)\n",
        "input_ = torch.from_numpy(input_)\n",
        "input_.shape"
      ],
      "execution_count": 13,
      "outputs": [
        {
          "output_type": "stream",
          "name": "stderr",
          "text": [
            "/usr/local/lib/python3.7/dist-packages/ipykernel_launcher.py:6: DeprecationWarning:     `imread` is deprecated!\n",
            "    `imread` is deprecated in SciPy 1.0.0, and will be removed in 1.2.0.\n",
            "    Use ``imageio.imread`` instead.\n",
            "  \n"
          ]
        },
        {
          "output_type": "execute_result",
          "data": {
            "text/plain": [
              "torch.Size([1, 1, 255, 255])"
            ]
          },
          "metadata": {},
          "execution_count": 13
        }
      ]
    },
    {
      "cell_type": "code",
      "metadata": {
        "colab": {
          "base_uri": "https://localhost:8080/",
          "height": 238
        },
        "id": "PRut0T4YQkDJ",
        "outputId": "4624941e-836a-41ae-f195-170916279e34"
      },
      "source": [
        "display(LR_image)"
      ],
      "execution_count": 14,
      "outputs": [
        {
          "output_type": "display_data",
          "data": {
            "text/plain": [
              "array([[0.25920767, 0.25513822, 0.2494797 , ..., 0.22881679, 0.23044209,\n",
              "        0.2311485 ],\n",
              "       [0.2788774 , 0.2700236 , 0.25395328, ..., 0.22590221, 0.22799058,\n",
              "        0.22887225],\n",
              "       [0.3138354 , 0.29562753, 0.25912508, ..., 0.21665223, 0.21967468,\n",
              "        0.2209137 ],\n",
              "       ...,\n",
              "       [0.2154972 , 0.2194135 , 0.2315378 , ..., 0.43357426, 0.43390125,\n",
              "        0.43403882],\n",
              "       [0.21987672, 0.22691946, 0.24443674, ..., 0.43563727, 0.43621522,\n",
              "        0.43647704],\n",
              "       [0.22228926, 0.2306639 , 0.25035676, ..., 0.4364397 , 0.43717626,\n",
              "        0.43751568]], dtype=float32)"
            ]
          },
          "metadata": {}
        }
      ]
    },
    {
      "cell_type": "code",
      "metadata": {
        "colab": {
          "base_uri": "https://localhost:8080/",
          "height": 238
        },
        "id": "1SB5mIVhQoW4",
        "outputId": "e98c302a-34ba-4d2d-a2dc-e95a332e1cce"
      },
      "source": [
        "display(HR_image)"
      ],
      "execution_count": 15,
      "outputs": [
        {
          "output_type": "display_data",
          "data": {
            "text/plain": [
              "array([[0.12304706, 0.17582352, 0.2643843 , ..., 0.24218823, 0.2461098 ,\n",
              "        0.2343451 ],\n",
              "       [0.10359216, 0.1251647 , 0.15560001, ..., 0.22901568, 0.23293725,\n",
              "        0.23775294],\n",
              "       [0.2531686 , 0.13490589, 0.10892157, ..., 0.23798823, 0.2419098 ,\n",
              "        0.24583137],\n",
              "       ...,\n",
              "       [0.19275686, 0.20656471, 0.1734902 , ..., 0.43803138, 0.42969802,\n",
              "        0.44169804],\n",
              "       [0.17764705, 0.19105098, 0.20729412, ..., 0.43366274, 0.43754116,\n",
              "        0.4456196 ],\n",
              "       [0.17886275, 0.1911804 , 0.2561451 , ..., 0.42974117, 0.44864705,\n",
              "        0.44169804]], dtype=float32)"
            ]
          },
          "metadata": {}
        }
      ]
    },
    {
      "cell_type": "code",
      "metadata": {
        "colab": {
          "base_uri": "https://localhost:8080/"
        },
        "id": "wOangcw5OeFm",
        "outputId": "d6dbd47f-7f22-46f3-a761-64654f69d87f"
      },
      "source": [
        "\"\"\"Run the model and get the SR image\n",
        "\"\"\"\n",
        "with torch.no_grad():\n",
        "    output_ = model(input_)\n",
        "imageio.imwrite('output.jpg',LR_image)\n",
        "skimage.metrics.peak_signal_noise_ratio(HR_image,LR_image)"
      ],
      "execution_count": 16,
      "outputs": [
        {
          "output_type": "stream",
          "name": "stderr",
          "text": [
            "WARNING:root:Lossy conversion from float32 to uint8. Range [0, 1]. Convert image to uint8 prior to saving to suppress this warning.\n"
          ]
        },
        {
          "output_type": "execute_result",
          "data": {
            "text/plain": [
              "20.497630181368823"
            ]
          },
          "metadata": {},
          "execution_count": 16
        }
      ]
    },
    {
      "cell_type": "code",
      "metadata": {
        "id": "AY3G54-oD4wG",
        "colab": {
          "base_uri": "https://localhost:8080/"
        },
        "outputId": "d0b5fd2a-106e-407a-b296-8ea91e4ea82d"
      },
      "source": [
        "SR_image = output_.numpy()\n",
        "SR_image = np.reshape(SR_image, (255, 255))\n",
        "skimage.metrics.peak_signal_noise_ratio(HR_image,SR_image)\n",
        "imageio.imwrite('output1.jpg',SR_image)\n",
        "imageio.imwrite('output2.jpg',HR_image)"
      ],
      "execution_count": 17,
      "outputs": [
        {
          "output_type": "stream",
          "name": "stderr",
          "text": [
            "WARNING:root:Lossy conversion from float32 to uint8. Range [0, 1]. Convert image to uint8 prior to saving to suppress this warning.\n",
            "WARNING:root:Lossy conversion from float32 to uint8. Range [0, 1]. Convert image to uint8 prior to saving to suppress this warning.\n"
          ]
        }
      ]
    },
    {
      "cell_type": "code",
      "metadata": {
        "colab": {
          "base_uri": "https://localhost:8080/"
        },
        "id": "5PyuBZkXHc_K",
        "outputId": "e67c32f0-6057-423b-bb54-5fecc9445283"
      },
      "source": [
        "skimage.metrics.peak_signal_noise_ratio(HR_image,LR_image)"
      ],
      "execution_count": 18,
      "outputs": [
        {
          "output_type": "execute_result",
          "data": {
            "text/plain": [
              "20.497630181368823"
            ]
          },
          "metadata": {},
          "execution_count": 18
        }
      ]
    },
    {
      "cell_type": "code",
      "metadata": {
        "id": "D7wlXo28J5Mc",
        "colab": {
          "base_uri": "https://localhost:8080/"
        },
        "outputId": "a8972be4-89ea-4b5f-9494-90e9523e1256"
      },
      "source": [
        "skimage.metrics.peak_signal_noise_ratio(HR_image,SR_image)"
      ],
      "execution_count": 19,
      "outputs": [
        {
          "output_type": "execute_result",
          "data": {
            "text/plain": [
              "22.922696338909144"
            ]
          },
          "metadata": {},
          "execution_count": 19
        }
      ]
    },
    {
      "cell_type": "markdown",
      "metadata": {
        "id": "ZPTTwOdeTPzq"
      },
      "source": [
        "## Original Resolution Image"
      ]
    },
    {
      "cell_type": "code",
      "metadata": {
        "colab": {
          "base_uri": "https://localhost:8080/",
          "height": 273
        },
        "id": "mV_6vF2nR1l_",
        "outputId": "83323924-7ed8-467f-82c0-2ba194848df7"
      },
      "source": [
        "display(Image(filename='output_GT.jpg'))"
      ],
      "execution_count": 20,
      "outputs": [
        {
          "output_type": "display_data",
          "data": {
            "image/jpeg": "[encoded data removed]",
            "text/plain": [
              "<IPython.core.display.Image object>"
            ]
          },
          "metadata": {}
        }
      ]
    },
    {
      "cell_type": "markdown",
      "metadata": {
        "id": "ol9BKfPiTVrg"
      },
      "source": [
        "## Low Resolution Image"
      ]
    },
    {
      "cell_type": "code",
      "metadata": {
        "colab": {
          "base_uri": "https://localhost:8080/",
          "height": 272
        },
        "id": "SYJstCgvR_Eu",
        "outputId": "022a74bc-85a4-47a0-e618-75ef0e1a8787"
      },
      "source": [
        "display(Image(filename='output.jpg'))"
      ],
      "execution_count": 22,
      "outputs": [
        {
          "output_type": "display_data",
          "data": {
            "image/jpeg": "[encoded data removed]",
            "text/plain": [
              "<IPython.core.display.Image object>"
            ]
          },
          "metadata": {}
        }
      ]
    },
    {
      "cell_type": "markdown",
      "metadata": {
        "id": "Y-a-65ErTfIP"
      },
      "source": [
        "## High resolution Image"
      ]
    },
    {
      "cell_type": "code",
      "metadata": {
        "colab": {
          "base_uri": "https://localhost:8080/",
          "height": 272
        },
        "id": "xP0A_CsqR6sB",
        "outputId": "d3124f76-7fdf-4bc6-b24a-fb7412de3b2f"
      },
      "source": [
        "display(Image(filename='output1.jpg'))"
      ],
      "execution_count": 21,
      "outputs": [
        {
          "output_type": "display_data",
          "data": {
            "image/jpeg": "[encoded data removed]",
            "text/plain": [
              "<IPython.core.display.Image object>"
            ]
          },
          "metadata": {}
        }
      ]
    },
    {
      "cell_type": "markdown",
      "metadata": {
        "id": "TuzTdzqNTnSZ"
      },
      "source": [
        "## Super Resolution Image"
      ]
    },
    {
      "cell_type": "code",
      "metadata": {
        "colab": {
          "base_uri": "https://localhost:8080/",
          "height": 272
        },
        "id": "7r6eR8XASEQ6",
        "outputId": "7d4baba4-b855-455c-ee45-10f5628898ec"
      },
      "source": [
        "display(Image(filename='output2.jpg'))"
      ],
      "execution_count": 23,
      "outputs": [
        {
          "output_type": "display_data",
          "data": {
            "image/jpeg": "[encoded data removed]",
            "text/plain": [
              "<IPython.core.display.Image object>"
            ]
          },
          "metadata": {}
        }
      ]
    },
    {
      "cell_type": "markdown",
      "metadata": {
        "id": "l_f1s_O4ZXTc"
      },
      "source": [
        "We used following layers to get super resolution image.\n",
        "\n",
        "conv1 layer with biases: 64 filters with size 9 x 9\n",
        "\n",
        "conv2 layer with biases and relu: 32 filters with size 1 x 1\n",
        "\n",
        "conv3 layer with biases and NO relu: 1 filter with size 5 x 5"
      ]
    }
  ]
}